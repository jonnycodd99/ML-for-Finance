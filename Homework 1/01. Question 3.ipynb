{
 "cells": [
  {
   "cell_type": "markdown",
   "metadata": {},
   "source": [
    "## Question 3\n",
    "(35%) Neural Networks and Gaussian process. \n",
    "\n",
    "Predict the SP500 with the financial indicators assigned to your team in the google spreadsheet (ep, dp, de, dy, dfy, bm, svar,\n",
    "ntis, infl, tbl , see RLab3 2 GWcausalSP500.R), some lagged series of these indicators and lags of the target using a Neural Network and a GP regression with your desired kernel.\n",
    "\n",
    "Predict return, or price, or direction (up or down). For which target works best? Do some feature selection to disregard some variables, select appropriate lags: causality, (distance) correlation, VAR-test, Lasso ... (The script RLab5 GausProc.R can be of help. The dataset is goyal-welch2022Monthly.csv and work within the period 1927/2021.)"
   ]
  },
  {
   "cell_type": "code",
   "execution_count": 1,
   "metadata": {},
   "outputs": [],
   "source": [
    "# bm,ep, ntis"
   ]
  },
  {
   "cell_type": "code",
   "execution_count": 2,
   "metadata": {},
   "outputs": [],
   "source": [
    "# Packages\n",
    "import os\n",
    "import pandas as pd\n",
    "import numpy as np\n",
    "from statsmodels.tsa.stattools import grangercausalitytests"
   ]
  },
  {
   "cell_type": "code",
   "execution_count": 7,
   "metadata": {},
   "outputs": [],
   "source": [
    "DATA_DIR = 'data'"
   ]
  },
  {
   "cell_type": "code",
   "execution_count": 26,
   "metadata": {},
   "outputs": [
    {
     "data": {
      "text/html": [
       "<div>\n",
       "<style scoped>\n",
       "    .dataframe tbody tr th:only-of-type {\n",
       "        vertical-align: middle;\n",
       "    }\n",
       "\n",
       "    .dataframe tbody tr th {\n",
       "        vertical-align: top;\n",
       "    }\n",
       "\n",
       "    .dataframe thead th {\n",
       "        text-align: right;\n",
       "    }\n",
       "</style>\n",
       "<table border=\"1\" class=\"dataframe\">\n",
       "  <thead>\n",
       "    <tr style=\"text-align: right;\">\n",
       "      <th></th>\n",
       "      <th>date</th>\n",
       "      <th>D12</th>\n",
       "      <th>Rfree</th>\n",
       "      <th>b/m</th>\n",
       "      <th>ntis</th>\n",
       "      <th>Index</th>\n",
       "    </tr>\n",
       "  </thead>\n",
       "  <tbody>\n",
       "    <tr>\n",
       "      <th>1212</th>\n",
       "      <td>1972-01-01</td>\n",
       "      <td>3.07</td>\n",
       "      <td>0.0029</td>\n",
       "      <td>0.635357</td>\n",
       "      <td>0.033075</td>\n",
       "      <td>103.94</td>\n",
       "    </tr>\n",
       "    <tr>\n",
       "      <th>1213</th>\n",
       "      <td>1972-02-01</td>\n",
       "      <td>3.07</td>\n",
       "      <td>0.0025</td>\n",
       "      <td>0.617586</td>\n",
       "      <td>0.033030</td>\n",
       "      <td>106.57</td>\n",
       "    </tr>\n",
       "    <tr>\n",
       "      <th>1214</th>\n",
       "      <td>1972-03-01</td>\n",
       "      <td>3.07</td>\n",
       "      <td>0.0027</td>\n",
       "      <td>0.645902</td>\n",
       "      <td>0.031723</td>\n",
       "      <td>107.20</td>\n",
       "    </tr>\n",
       "    <tr>\n",
       "      <th>1215</th>\n",
       "      <td>1972-04-01</td>\n",
       "      <td>3.07</td>\n",
       "      <td>0.0029</td>\n",
       "      <td>0.636784</td>\n",
       "      <td>0.032492</td>\n",
       "      <td>107.67</td>\n",
       "    </tr>\n",
       "    <tr>\n",
       "      <th>1216</th>\n",
       "      <td>1972-05-01</td>\n",
       "      <td>3.07</td>\n",
       "      <td>0.0030</td>\n",
       "      <td>0.632442</td>\n",
       "      <td>0.030657</td>\n",
       "      <td>109.53</td>\n",
       "    </tr>\n",
       "  </tbody>\n",
       "</table>\n",
       "</div>"
      ],
      "text/plain": [
       "           date   D12   Rfree       b/m      ntis   Index\n",
       "1212 1972-01-01  3.07  0.0029  0.635357  0.033075  103.94\n",
       "1213 1972-02-01  3.07  0.0025  0.617586  0.033030  106.57\n",
       "1214 1972-03-01  3.07  0.0027  0.645902  0.031723  107.20\n",
       "1215 1972-04-01  3.07  0.0029  0.636784  0.032492  107.67\n",
       "1216 1972-05-01  3.07  0.0030  0.632442  0.030657  109.53"
      ]
     },
     "execution_count": 26,
     "metadata": {},
     "output_type": "execute_result"
    }
   ],
   "source": [
    "file = 'goyal-welch2022Monthly.csv'\n",
    "data = pd.read_csv(os.path.join(DATA_DIR, file)) #,\n",
    "                   #usecols=['yyyymm', 'Index', 'b/m', 'ep', 'ntis'])\n",
    "\n",
    "data['Index'] = data['Index'].apply(lambda x: x.replace(',', '')).astype(float)\n",
    "data['date'] = pd.to_datetime(data['yyyymm'], format='%Y%m')\n",
    "\n",
    "data = data[['date', 'D12', 'Rfree', 'b/m', 'ntis', 'Index']]\n",
    "\n",
    "dateI = \"1972-01-01\"\n",
    "dateF = \"2021-12-31\"\n",
    "data = data.query(f'date >= \"{dateI}\" & date <= \"{dateF}\"')\n",
    "data.head()"
   ]
  },
  {
   "cell_type": "markdown",
   "metadata": {},
   "source": []
  },
  {
   "cell_type": "code",
   "execution_count": 30,
   "metadata": {},
   "outputs": [
    {
     "name": "stdout",
     "output_type": "stream",
     "text": [
      "        GSPCep     lag_1     lag_2     lag_3  lag_1_sq  lag_2_sq\n",
      "1213  0.021783       NaN       NaN       NaN       NaN       NaN\n",
      "1214  0.003033  0.021783       NaN       NaN  0.000475       NaN\n",
      "1215  0.001357  0.003033  0.021783       NaN  0.000009  0.000475\n",
      "1216  0.013661  0.001357  0.003033  0.021783  0.000002  0.000009\n",
      "1217 -0.024350  0.013661  0.001357  0.003033  0.000187  0.000002\n",
      "...        ...       ...       ...       ...       ...       ...\n",
      "1807  0.028310  0.022302  0.021694  0.005415  0.000497  0.000471\n",
      "1808 -0.047991  0.028310  0.022302  0.021694  0.000801  0.000497\n",
      "1809  0.066062 -0.047991  0.028310  0.022302  0.002303  0.000801\n",
      "1810 -0.008279  0.066062 -0.047991  0.028310  0.004364  0.002303\n",
      "1811  0.042225 -0.008279  0.066062 -0.047991  0.000069  0.004364\n",
      "\n",
      "[599 rows x 6 columns]\n"
     ]
    }
   ],
   "source": [
    "# Compute log returns of SP500 (logret)\n",
    "logret = np.diff(np.log(data['Index']))\n",
    "\n",
    "# Compute IndexDiv\n",
    "IndexDiv = data['Index'] + data['D12']\n",
    "\n",
    "# Compute log returns of IndexDiv (logretdiv)\n",
    "logretdiv = np.diff(np.log(IndexDiv))\n",
    "\n",
    "# Compute log of Rfree\n",
    "logRfree = np.log(data['Rfree'] + 1)[1:]\n",
    "\n",
    "# Compute GSPCep\n",
    "GSPCep = logretdiv - logRfree\n",
    "GSPCep.name = 'GSPCep'\n",
    "\n",
    "# Merge features with lags\n",
    "lags = [1, 2, 3]\n",
    "features = [GSPCep.shift(lag).rename(f'lag_{lag}') for lag in lags]\n",
    "features.append((GSPCep ** 2).shift(1).rename('lag_1_sq'))\n",
    "features.append((GSPCep ** 2).shift(2).rename('lag_2_sq'))\n",
    "\n",
    "# Merge all features\n",
    "Z = pd.concat([GSPCep] + features, axis=1)\n",
    "\n",
    "print(Z)"
   ]
  },
  {
   "cell_type": "code",
   "execution_count": null,
   "metadata": {},
   "outputs": [],
   "source": []
  },
  {
   "cell_type": "code",
   "execution_count": null,
   "metadata": {},
   "outputs": [],
   "source": []
  }
 ],
 "metadata": {
  "kernelspec": {
   "display_name": "base",
   "language": "python",
   "name": "python3"
  },
  "language_info": {
   "codemirror_mode": {
    "name": "ipython",
    "version": 3
   },
   "file_extension": ".py",
   "mimetype": "text/x-python",
   "name": "python",
   "nbconvert_exporter": "python",
   "pygments_lexer": "ipython3",
   "version": "3.8.17"
  }
 },
 "nbformat": 4,
 "nbformat_minor": 2
}
